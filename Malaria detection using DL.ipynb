{
 "cells": [
  {
   "cell_type": "code",
   "execution_count": 7,
   "metadata": {
    "id": "pcMiJ1eTvvqZ"
   },
   "outputs": [],
   "source": [
    "from tensorflow.keras.layers import Input, Lambda, Dense, Flatten,Conv2D\n",
    "from tensorflow.keras.models import Model\n",
    "from tensorflow.keras.applications.vgg19 import VGG19\n",
    "from tensorflow.keras.applications.resnet50 import preprocess_input\n",
    "from tensorflow.keras.preprocessing import image\n",
    "from tensorflow.keras.preprocessing.image import ImageDataGenerator,load_img\n",
    "from tensorflow.keras.models import Sequential\n",
    "import numpy as np\n",
    "from glob import glob\n",
    "import matplotlib.pyplot as plt"
   ]
  },
  {
   "cell_type": "code",
   "execution_count": 8,
   "metadata": {
    "id": "L3Fd2byYy-pB"
   },
   "outputs": [],
   "source": [
    "# re-size all the images to this\n",
    "IMAGE_SIZE = [224, 224]\n",
    "\n",
    "train_path = '/content/drive/MyDrive/Colab Notebooks/Train'\n",
    "valid_path = '/content/drive/MyDrive/Colab Notebooks/Test'"
   ]
  },
  {
   "cell_type": "code",
   "execution_count": 9,
   "metadata": {
    "colab": {
     "base_uri": "https://localhost:8080/"
    },
    "id": "bmFIwGXO-mz0",
    "outputId": "b292e08f-e288-4f0c-9d1c-5a8d5f7f5461"
   },
   "outputs": [
    {
     "name": "stdout",
     "output_type": "stream",
     "text": [
      "Downloading data from https://storage.googleapis.com/tensorflow/keras-applications/vgg19/vgg19_weights_tf_dim_ordering_tf_kernels_notop.h5\n",
      "80142336/80134624 [==============================] - 1s 0us/step\n"
     ]
    }
   ],
   "source": [
    "# Import the Vgg 16 library as shown below and add preprocessing layer to the front of VGG\n",
    "# Here we will be using imagenet weights\n",
    "# include top false is we will give pour input and output\n",
    "mobilnet = VGG19(input_shape=IMAGE_SIZE + [3], weights='imagenet', include_top=False)"
   ]
  },
  {
   "cell_type": "code",
   "execution_count": 10,
   "metadata": {
    "colab": {
     "base_uri": "https://localhost:8080/"
    },
    "id": "p01kEWp0_upE",
    "outputId": "d0d9f467-9499-4145-9752-ed1b9b5da5c0"
   },
   "outputs": [
    {
     "name": "stdout",
     "output_type": "stream",
     "text": [
      "Model: \"vgg19\"\n",
      "_________________________________________________________________\n",
      "Layer (type)                 Output Shape              Param #   \n",
      "=================================================================\n",
      "input_1 (InputLayer)         [(None, 224, 224, 3)]     0         \n",
      "_________________________________________________________________\n",
      "block1_conv1 (Conv2D)        (None, 224, 224, 64)      1792      \n",
      "_________________________________________________________________\n",
      "block1_conv2 (Conv2D)        (None, 224, 224, 64)      36928     \n",
      "_________________________________________________________________\n",
      "block1_pool (MaxPooling2D)   (None, 112, 112, 64)      0         \n",
      "_________________________________________________________________\n",
      "block2_conv1 (Conv2D)        (None, 112, 112, 128)     73856     \n",
      "_________________________________________________________________\n",
      "block2_conv2 (Conv2D)        (None, 112, 112, 128)     147584    \n",
      "_________________________________________________________________\n",
      "block2_pool (MaxPooling2D)   (None, 56, 56, 128)       0         \n",
      "_________________________________________________________________\n",
      "block3_conv1 (Conv2D)        (None, 56, 56, 256)       295168    \n",
      "_________________________________________________________________\n",
      "block3_conv2 (Conv2D)        (None, 56, 56, 256)       590080    \n",
      "_________________________________________________________________\n",
      "block3_conv3 (Conv2D)        (None, 56, 56, 256)       590080    \n",
      "_________________________________________________________________\n",
      "block3_conv4 (Conv2D)        (None, 56, 56, 256)       590080    \n",
      "_________________________________________________________________\n",
      "block3_pool (MaxPooling2D)   (None, 28, 28, 256)       0         \n",
      "_________________________________________________________________\n",
      "block4_conv1 (Conv2D)        (None, 28, 28, 512)       1180160   \n",
      "_________________________________________________________________\n",
      "block4_conv2 (Conv2D)        (None, 28, 28, 512)       2359808   \n",
      "_________________________________________________________________\n",
      "block4_conv3 (Conv2D)        (None, 28, 28, 512)       2359808   \n",
      "_________________________________________________________________\n",
      "block4_conv4 (Conv2D)        (None, 28, 28, 512)       2359808   \n",
      "_________________________________________________________________\n",
      "block4_pool (MaxPooling2D)   (None, 14, 14, 512)       0         \n",
      "_________________________________________________________________\n",
      "block5_conv1 (Conv2D)        (None, 14, 14, 512)       2359808   \n",
      "_________________________________________________________________\n",
      "block5_conv2 (Conv2D)        (None, 14, 14, 512)       2359808   \n",
      "_________________________________________________________________\n",
      "block5_conv3 (Conv2D)        (None, 14, 14, 512)       2359808   \n",
      "_________________________________________________________________\n",
      "block5_conv4 (Conv2D)        (None, 14, 14, 512)       2359808   \n",
      "_________________________________________________________________\n",
      "block5_pool (MaxPooling2D)   (None, 7, 7, 512)         0         \n",
      "=================================================================\n",
      "Total params: 20,024,384\n",
      "Trainable params: 20,024,384\n",
      "Non-trainable params: 0\n",
      "_________________________________________________________________\n"
     ]
    }
   ],
   "source": [
    "mobilnet.summary()"
   ]
  },
  {
   "cell_type": "code",
   "execution_count": 11,
   "metadata": {
    "id": "CATmO3Ci-2vp"
   },
   "outputs": [],
   "source": [
    "# don't train existing weights\n",
    "for layer in mobilnet.layers:\n",
    "    layer.trainable = False"
   ]
  },
  {
   "cell_type": "code",
   "execution_count": 12,
   "metadata": {
    "id": "7Pm48V03_CWi"
   },
   "outputs": [],
   "source": [
    "# useful for getting number of output classes\n",
    "import os\n",
    "path='/content/drive/MyDrive/Colab Notebooks/Train'\n",
    "folder = os.listdir('/content/drive/MyDrive/Colab Notebooks/Train')"
   ]
  },
  {
   "cell_type": "code",
   "execution_count": 13,
   "metadata": {
    "id": "9yZwrk1eoaBc"
   },
   "outputs": [],
   "source": [
    "folders=[path+folder[0]]"
   ]
  },
  {
   "cell_type": "code",
   "execution_count": 14,
   "metadata": {
    "id": "Oqm1q-C0_Iyz"
   },
   "outputs": [],
   "source": [
    "folders.append(path+folder[1])"
   ]
  },
  {
   "cell_type": "code",
   "execution_count": 15,
   "metadata": {
    "colab": {
     "base_uri": "https://localhost:8080/"
    },
    "id": "uOXa8x0dosfE",
    "outputId": "ad5ba7d3-92b7-4219-94a2-81b41ced8055"
   },
   "outputs": [
    {
     "data": {
      "text/plain": [
       "['/content/drive/MyDrive/Colab Notebooks/TrainUninfected',\n",
       " '/content/drive/MyDrive/Colab Notebooks/TrainParasite']"
      ]
     },
     "execution_count": 15,
     "metadata": {
      "tags": []
     },
     "output_type": "execute_result"
    }
   ],
   "source": [
    "folders"
   ]
  },
  {
   "cell_type": "code",
   "execution_count": 16,
   "metadata": {
    "id": "f-qOaK4q_LDX"
   },
   "outputs": [],
   "source": [
    "# our layers - you can add more if you want\n",
    "x = Flatten()(mobilnet.output)"
   ]
  },
  {
   "cell_type": "code",
   "execution_count": 17,
   "metadata": {
    "id": "hK2EeVXFAqmT"
   },
   "outputs": [],
   "source": [
    "prediction = Dense(len(folders), activation='softmax')(x)\n",
    "\n",
    "# create a model object\n",
    "model = Model(inputs=mobilnet.input, outputs=prediction)"
   ]
  },
  {
   "cell_type": "code",
   "execution_count": 18,
   "metadata": {
    "colab": {
     "base_uri": "https://localhost:8080/"
    },
    "id": "DQAGXDrIAwmX",
    "outputId": "5980ce17-6d6d-44d5-b2db-b6f723344f0d"
   },
   "outputs": [
    {
     "name": "stdout",
     "output_type": "stream",
     "text": [
      "Model: \"model\"\n",
      "_________________________________________________________________\n",
      "Layer (type)                 Output Shape              Param #   \n",
      "=================================================================\n",
      "input_1 (InputLayer)         [(None, 224, 224, 3)]     0         \n",
      "_________________________________________________________________\n",
      "block1_conv1 (Conv2D)        (None, 224, 224, 64)      1792      \n",
      "_________________________________________________________________\n",
      "block1_conv2 (Conv2D)        (None, 224, 224, 64)      36928     \n",
      "_________________________________________________________________\n",
      "block1_pool (MaxPooling2D)   (None, 112, 112, 64)      0         \n",
      "_________________________________________________________________\n",
      "block2_conv1 (Conv2D)        (None, 112, 112, 128)     73856     \n",
      "_________________________________________________________________\n",
      "block2_conv2 (Conv2D)        (None, 112, 112, 128)     147584    \n",
      "_________________________________________________________________\n",
      "block2_pool (MaxPooling2D)   (None, 56, 56, 128)       0         \n",
      "_________________________________________________________________\n",
      "block3_conv1 (Conv2D)        (None, 56, 56, 256)       295168    \n",
      "_________________________________________________________________\n",
      "block3_conv2 (Conv2D)        (None, 56, 56, 256)       590080    \n",
      "_________________________________________________________________\n",
      "block3_conv3 (Conv2D)        (None, 56, 56, 256)       590080    \n",
      "_________________________________________________________________\n",
      "block3_conv4 (Conv2D)        (None, 56, 56, 256)       590080    \n",
      "_________________________________________________________________\n",
      "block3_pool (MaxPooling2D)   (None, 28, 28, 256)       0         \n",
      "_________________________________________________________________\n",
      "block4_conv1 (Conv2D)        (None, 28, 28, 512)       1180160   \n",
      "_________________________________________________________________\n",
      "block4_conv2 (Conv2D)        (None, 28, 28, 512)       2359808   \n",
      "_________________________________________________________________\n",
      "block4_conv3 (Conv2D)        (None, 28, 28, 512)       2359808   \n",
      "_________________________________________________________________\n",
      "block4_conv4 (Conv2D)        (None, 28, 28, 512)       2359808   \n",
      "_________________________________________________________________\n",
      "block4_pool (MaxPooling2D)   (None, 14, 14, 512)       0         \n",
      "_________________________________________________________________\n",
      "block5_conv1 (Conv2D)        (None, 14, 14, 512)       2359808   \n",
      "_________________________________________________________________\n",
      "block5_conv2 (Conv2D)        (None, 14, 14, 512)       2359808   \n",
      "_________________________________________________________________\n",
      "block5_conv3 (Conv2D)        (None, 14, 14, 512)       2359808   \n",
      "_________________________________________________________________\n",
      "block5_conv4 (Conv2D)        (None, 14, 14, 512)       2359808   \n",
      "_________________________________________________________________\n",
      "block5_pool (MaxPooling2D)   (None, 7, 7, 512)         0         \n",
      "_________________________________________________________________\n",
      "flatten (Flatten)            (None, 25088)             0         \n",
      "_________________________________________________________________\n",
      "dense (Dense)                (None, 2)                 50178     \n",
      "=================================================================\n",
      "Total params: 20,074,562\n",
      "Trainable params: 50,178\n",
      "Non-trainable params: 20,024,384\n",
      "_________________________________________________________________\n"
     ]
    }
   ],
   "source": [
    "# view the structure of the model\n",
    "model.summary()"
   ]
  },
  {
   "cell_type": "code",
   "execution_count": 19,
   "metadata": {
    "id": "rLQlBpWfA1HJ"
   },
   "outputs": [],
   "source": [
    "from tensorflow.keras.layers import MaxPooling2D"
   ]
  },
  {
   "cell_type": "code",
   "execution_count": 20,
   "metadata": {
    "colab": {
     "base_uri": "https://localhost:8080/"
    },
    "id": "GJB9gWC7n8SD",
    "outputId": "c44e1ece-79fd-4249-a589-bb13d6b3f4ae"
   },
   "outputs": [
    {
     "name": "stdout",
     "output_type": "stream",
     "text": [
      "Model: \"sequential\"\n",
      "_________________________________________________________________\n",
      "Layer (type)                 Output Shape              Param #   \n",
      "=================================================================\n",
      "conv2d (Conv2D)              (None, 224, 224, 16)      208       \n",
      "_________________________________________________________________\n",
      "max_pooling2d (MaxPooling2D) (None, 112, 112, 16)      0         \n",
      "_________________________________________________________________\n",
      "conv2d_1 (Conv2D)            (None, 112, 112, 32)      2080      \n",
      "_________________________________________________________________\n",
      "max_pooling2d_1 (MaxPooling2 (None, 56, 56, 32)        0         \n",
      "_________________________________________________________________\n",
      "conv2d_2 (Conv2D)            (None, 56, 56, 64)        8256      \n",
      "_________________________________________________________________\n",
      "max_pooling2d_2 (MaxPooling2 (None, 28, 28, 64)        0         \n",
      "_________________________________________________________________\n",
      "flatten_1 (Flatten)          (None, 50176)             0         \n",
      "_________________________________________________________________\n",
      "dense_1 (Dense)              (None, 500)               25088500  \n",
      "_________________________________________________________________\n",
      "dense_2 (Dense)              (None, 2)                 1002      \n",
      "=================================================================\n",
      "Total params: 25,100,046\n",
      "Trainable params: 25,100,046\n",
      "Non-trainable params: 0\n",
      "_________________________________________________________________\n"
     ]
    }
   ],
   "source": [
    "### Create Model from scratch using CNN\n",
    "model=Sequential()\n",
    "model.add(Conv2D(filters=16,kernel_size=2,padding=\"same\",activation=\"relu\",input_shape=(224,224,3)))\n",
    "model.add(MaxPooling2D(pool_size=2))\n",
    "model.add(Conv2D(filters=32,kernel_size=2,padding=\"same\",activation =\"relu\"))\n",
    "model.add(MaxPooling2D(pool_size=2))\n",
    "model.add(Conv2D(filters=64,kernel_size=2,padding=\"same\",activation=\"relu\"))\n",
    "model.add(MaxPooling2D(pool_size=2))\n",
    "model.add(Flatten())\n",
    "model.add(Dense(500,activation=\"relu\"))\n",
    "model.add(Dense(2,activation=\"softmax\"))\n",
    "model.summary()"
   ]
  },
  {
   "cell_type": "code",
   "execution_count": 21,
   "metadata": {
    "id": "IC5Zfj_CpnB6"
   },
   "outputs": [],
   "source": [
    "# tell the model what cost and optimization method to use\n",
    "model.compile(\n",
    "  loss='categorical_crossentropy',\n",
    "  optimizer='adam',\n",
    "  metrics=['accuracy']\n",
    ")"
   ]
  },
  {
   "cell_type": "code",
   "execution_count": 22,
   "metadata": {
    "id": "4fmBlKQipyCP"
   },
   "outputs": [],
   "source": [
    "# Use the Image Data Generator to import the images from the dataset\n",
    "from tensorflow.keras.preprocessing.image import ImageDataGenerator\n",
    "\n",
    "train_datagen = ImageDataGenerator(rescale = 1./255,\n",
    "                                   shear_range = 0.2,\n",
    "                                   zoom_range = 0.2,\n",
    "                                   horizontal_flip = True)\n",
    "\n",
    "test_datagen = ImageDataGenerator(rescale = 1./255)"
   ]
  },
  {
   "cell_type": "code",
   "execution_count": 23,
   "metadata": {
    "colab": {
     "base_uri": "https://localhost:8080/"
    },
    "id": "CsnTZRQjp09J",
    "outputId": "d40e4d32-7713-4c97-efe7-f2a90c5662b3"
   },
   "outputs": [
    {
     "name": "stdout",
     "output_type": "stream",
     "text": [
      "Found 416 images belonging to 2 classes.\n"
     ]
    }
   ],
   "source": [
    "# Make sure you provide the same target size as initialied for the image size\n",
    "training_set = train_datagen.flow_from_directory('/content/drive/MyDrive/Colab Notebooks/Train',\n",
    "                                                 target_size = (224, 224),\n",
    "                                                 batch_size = 32,\n",
    "                                                 class_mode = 'categorical')"
   ]
  },
  {
   "cell_type": "code",
   "execution_count": 24,
   "metadata": {
    "colab": {
     "base_uri": "https://localhost:8080/"
    },
    "id": "H7L7331BqS1_",
    "outputId": "b07ebcf2-f741-48d7-85ae-612380f27595"
   },
   "outputs": [
    {
     "name": "stdout",
     "output_type": "stream",
     "text": [
      "Found 134 images belonging to 2 classes.\n"
     ]
    }
   ],
   "source": [
    "test_set = test_datagen.flow_from_directory('/content/drive/MyDrive/Colab Notebooks/Test',\n",
    "                                            target_size = (224, 224),\n",
    "                                            batch_size = 32,\n",
    "                                            class_mode = 'categorical')"
   ]
  },
  {
   "cell_type": "code",
   "execution_count": 26,
   "metadata": {
    "colab": {
     "base_uri": "https://localhost:8080/"
    },
    "id": "NDBNW1JOqfoI",
    "outputId": "81965a7b-b980-474c-9d9a-0fe0b1d9f411"
   },
   "outputs": [
    {
     "name": "stderr",
     "output_type": "stream",
     "text": [
      "/usr/local/lib/python3.7/dist-packages/tensorflow/python/keras/engine/training.py:1844: UserWarning: `Model.fit_generator` is deprecated and will be removed in a future version. Please use `Model.fit`, which supports generators.\n",
      "  warnings.warn('`Model.fit_generator` is deprecated and '\n"
     ]
    },
    {
     "name": "stdout",
     "output_type": "stream",
     "text": [
      "Epoch 1/50\n",
      "13/13 [==============================] - 336s 25s/step - loss: 2.0714 - accuracy: 0.5310 - val_loss: 0.6969 - val_accuracy: 0.5075\n",
      "Epoch 2/50\n",
      "13/13 [==============================] - 5s 379ms/step - loss: 0.5470 - accuracy: 0.7073 - val_loss: 0.9031 - val_accuracy: 0.2761\n",
      "Epoch 3/50\n",
      "13/13 [==============================] - 5s 368ms/step - loss: 0.5268 - accuracy: 0.6906 - val_loss: 1.4439 - val_accuracy: 0.3209\n",
      "Epoch 4/50\n",
      "13/13 [==============================] - 5s 369ms/step - loss: 0.6186 - accuracy: 0.6442 - val_loss: 0.7458 - val_accuracy: 0.4328\n",
      "Epoch 5/50\n",
      "13/13 [==============================] - 5s 371ms/step - loss: 0.4925 - accuracy: 0.7673 - val_loss: 0.7952 - val_accuracy: 0.4478\n",
      "Epoch 6/50\n",
      "13/13 [==============================] - 5s 371ms/step - loss: 0.4570 - accuracy: 0.7571 - val_loss: 0.8979 - val_accuracy: 0.4403\n",
      "Epoch 7/50\n",
      "13/13 [==============================] - 5s 369ms/step - loss: 0.4010 - accuracy: 0.7918 - val_loss: 0.7221 - val_accuracy: 0.5299\n",
      "Epoch 8/50\n",
      "13/13 [==============================] - 5s 369ms/step - loss: 0.3410 - accuracy: 0.8682 - val_loss: 0.8377 - val_accuracy: 0.5224\n",
      "Epoch 9/50\n",
      "13/13 [==============================] - 5s 368ms/step - loss: 0.2679 - accuracy: 0.8952 - val_loss: 0.7199 - val_accuracy: 0.5970\n",
      "Epoch 10/50\n",
      "13/13 [==============================] - 5s 367ms/step - loss: 0.2443 - accuracy: 0.9339 - val_loss: 0.5421 - val_accuracy: 0.7090\n",
      "Epoch 11/50\n",
      "13/13 [==============================] - 5s 369ms/step - loss: 0.2007 - accuracy: 0.9348 - val_loss: 0.6903 - val_accuracy: 0.6866\n",
      "Epoch 12/50\n",
      "13/13 [==============================] - 5s 365ms/step - loss: 0.1903 - accuracy: 0.9322 - val_loss: 0.7270 - val_accuracy: 0.6567\n",
      "Epoch 13/50\n",
      "13/13 [==============================] - 5s 369ms/step - loss: 0.1472 - accuracy: 0.9507 - val_loss: 0.3383 - val_accuracy: 0.8582\n",
      "Epoch 14/50\n",
      "13/13 [==============================] - 5s 367ms/step - loss: 0.1716 - accuracy: 0.9452 - val_loss: 0.7497 - val_accuracy: 0.6418\n",
      "Epoch 15/50\n",
      "13/13 [==============================] - 5s 371ms/step - loss: 0.2433 - accuracy: 0.8945 - val_loss: 0.5325 - val_accuracy: 0.7463\n",
      "Epoch 16/50\n",
      "13/13 [==============================] - 5s 372ms/step - loss: 0.1385 - accuracy: 0.9589 - val_loss: 0.3891 - val_accuracy: 0.7985\n",
      "Epoch 17/50\n",
      "13/13 [==============================] - 5s 366ms/step - loss: 0.1130 - accuracy: 0.9609 - val_loss: 1.6226 - val_accuracy: 0.5299\n",
      "Epoch 18/50\n",
      "13/13 [==============================] - 5s 377ms/step - loss: 0.2198 - accuracy: 0.9184 - val_loss: 0.3196 - val_accuracy: 0.8358\n",
      "Epoch 19/50\n",
      "13/13 [==============================] - 5s 370ms/step - loss: 0.0994 - accuracy: 0.9728 - val_loss: 0.4533 - val_accuracy: 0.7985\n",
      "Epoch 20/50\n",
      "13/13 [==============================] - 5s 377ms/step - loss: 0.0965 - accuracy: 0.9665 - val_loss: 0.7429 - val_accuracy: 0.7164\n",
      "Epoch 21/50\n",
      "13/13 [==============================] - 5s 366ms/step - loss: 0.1094 - accuracy: 0.9451 - val_loss: 0.3859 - val_accuracy: 0.8134\n",
      "Epoch 22/50\n",
      "13/13 [==============================] - 5s 371ms/step - loss: 0.1313 - accuracy: 0.9364 - val_loss: 0.3601 - val_accuracy: 0.8358\n",
      "Epoch 23/50\n",
      "13/13 [==============================] - 5s 368ms/step - loss: 0.0930 - accuracy: 0.9689 - val_loss: 0.2357 - val_accuracy: 0.9104\n",
      "Epoch 24/50\n",
      "13/13 [==============================] - 5s 368ms/step - loss: 0.0976 - accuracy: 0.9650 - val_loss: 0.1836 - val_accuracy: 0.9328\n",
      "Epoch 25/50\n",
      "13/13 [==============================] - 5s 366ms/step - loss: 0.0810 - accuracy: 0.9710 - val_loss: 0.3073 - val_accuracy: 0.8881\n",
      "Epoch 26/50\n",
      "13/13 [==============================] - 5s 365ms/step - loss: 0.0619 - accuracy: 0.9842 - val_loss: 0.4582 - val_accuracy: 0.8209\n",
      "Epoch 27/50\n",
      "13/13 [==============================] - 5s 368ms/step - loss: 0.1236 - accuracy: 0.9639 - val_loss: 0.3488 - val_accuracy: 0.8657\n",
      "Epoch 28/50\n",
      "13/13 [==============================] - 5s 366ms/step - loss: 0.0720 - accuracy: 0.9735 - val_loss: 0.2937 - val_accuracy: 0.8731\n",
      "Epoch 29/50\n",
      "13/13 [==============================] - 5s 375ms/step - loss: 0.0523 - accuracy: 0.9855 - val_loss: 0.1845 - val_accuracy: 0.9254\n",
      "Epoch 30/50\n",
      "13/13 [==============================] - 5s 371ms/step - loss: 0.0615 - accuracy: 0.9847 - val_loss: 0.2149 - val_accuracy: 0.9104\n",
      "Epoch 31/50\n",
      "13/13 [==============================] - 5s 368ms/step - loss: 0.0320 - accuracy: 0.9926 - val_loss: 0.1704 - val_accuracy: 0.9254\n",
      "Epoch 32/50\n",
      "13/13 [==============================] - 5s 367ms/step - loss: 0.0486 - accuracy: 0.9875 - val_loss: 0.3632 - val_accuracy: 0.8507\n",
      "Epoch 33/50\n",
      "13/13 [==============================] - 5s 369ms/step - loss: 0.0542 - accuracy: 0.9870 - val_loss: 0.2851 - val_accuracy: 0.8881\n",
      "Epoch 34/50\n",
      "13/13 [==============================] - 5s 367ms/step - loss: 0.0387 - accuracy: 0.9850 - val_loss: 0.2987 - val_accuracy: 0.8955\n",
      "Epoch 35/50\n",
      "13/13 [==============================] - 5s 365ms/step - loss: 0.1077 - accuracy: 0.9660 - val_loss: 0.2531 - val_accuracy: 0.9030\n",
      "Epoch 36/50\n",
      "13/13 [==============================] - 5s 369ms/step - loss: 0.0892 - accuracy: 0.9709 - val_loss: 0.2024 - val_accuracy: 0.8881\n",
      "Epoch 37/50\n",
      "13/13 [==============================] - 5s 368ms/step - loss: 0.0719 - accuracy: 0.9849 - val_loss: 0.1592 - val_accuracy: 0.9403\n",
      "Epoch 38/50\n",
      "13/13 [==============================] - 5s 368ms/step - loss: 0.0698 - accuracy: 0.9762 - val_loss: 0.1802 - val_accuracy: 0.9104\n",
      "Epoch 39/50\n",
      "13/13 [==============================] - 5s 370ms/step - loss: 0.0573 - accuracy: 0.9741 - val_loss: 0.3901 - val_accuracy: 0.8582\n",
      "Epoch 40/50\n",
      "13/13 [==============================] - 5s 370ms/step - loss: 0.2225 - accuracy: 0.9292 - val_loss: 0.2979 - val_accuracy: 0.8507\n",
      "Epoch 41/50\n",
      "13/13 [==============================] - 5s 367ms/step - loss: 0.1077 - accuracy: 0.9621 - val_loss: 0.2581 - val_accuracy: 0.8806\n",
      "Epoch 42/50\n",
      "13/13 [==============================] - 5s 375ms/step - loss: 0.0563 - accuracy: 0.9858 - val_loss: 0.3924 - val_accuracy: 0.8507\n",
      "Epoch 43/50\n",
      "13/13 [==============================] - 5s 372ms/step - loss: 0.0923 - accuracy: 0.9740 - val_loss: 0.1271 - val_accuracy: 0.9701\n",
      "Epoch 44/50\n",
      "13/13 [==============================] - 5s 366ms/step - loss: 0.0543 - accuracy: 0.9934 - val_loss: 0.1797 - val_accuracy: 0.9328\n",
      "Epoch 45/50\n",
      "13/13 [==============================] - 5s 373ms/step - loss: 0.0380 - accuracy: 0.9912 - val_loss: 0.1751 - val_accuracy: 0.9179\n",
      "Epoch 46/50\n",
      "13/13 [==============================] - 5s 368ms/step - loss: 0.0334 - accuracy: 0.9925 - val_loss: 0.2298 - val_accuracy: 0.9179\n",
      "Epoch 47/50\n",
      "13/13 [==============================] - 5s 375ms/step - loss: 0.0833 - accuracy: 0.9818 - val_loss: 0.2580 - val_accuracy: 0.8955\n",
      "Epoch 48/50\n",
      "13/13 [==============================] - 5s 364ms/step - loss: 0.0864 - accuracy: 0.9805 - val_loss: 0.2295 - val_accuracy: 0.9104\n",
      "Epoch 49/50\n",
      "13/13 [==============================] - 5s 367ms/step - loss: 0.0564 - accuracy: 0.9918 - val_loss: 0.1656 - val_accuracy: 0.9328\n",
      "Epoch 50/50\n",
      "13/13 [==============================] - 5s 370ms/step - loss: 0.0302 - accuracy: 0.9937 - val_loss: 0.1368 - val_accuracy: 0.9552\n"
     ]
    }
   ],
   "source": [
    "# fit the model\n",
    "# Run the cell. It will take some time to execute\n",
    "r = model.fit_generator(\n",
    "  training_set,\n",
    "  validation_data=test_set,\n",
    "  epochs=50,\n",
    "  steps_per_epoch=len(training_set),\n",
    "  validation_steps=len(test_set)\n",
    ")"
   ]
  },
  {
   "cell_type": "code",
   "execution_count": 27,
   "metadata": {
    "colab": {
     "base_uri": "https://localhost:8080/",
     "height": 531
    },
    "id": "loCODfcdryCU",
    "outputId": "79bbdfb4-abbf-430f-bf6f-ad5f1e086527"
   },
   "outputs": [
    {
     "data": {
      "image/png": "[encoded data removed]",
      "text/plain": [
       "<Figure size 432x288 with 1 Axes>"
      ]
     },
     "metadata": {
      "needs_background": "light",
      "tags": []
     },
     "output_type": "display_data"
    },
    {
     "data": {
      "image/png": "[encoded data removed]",
      "text/plain": [
       "<Figure size 432x288 with 1 Axes>"
      ]
     },
     "metadata": {
      "needs_background": "light",
      "tags": []
     },
     "output_type": "display_data"
    },
    {
     "data": {
      "text/plain": [
       "<Figure size 432x288 with 0 Axes>"
      ]
     },
     "metadata": {
      "tags": []
     },
     "output_type": "display_data"
    }
   ],
   "source": [
    "# plot the loss\n",
    "plt.plot(r.history['loss'], label='train loss')\n",
    "plt.plot(r.history['val_loss'], label='val loss')\n",
    "plt.legend()\n",
    "plt.show()\n",
    "plt.savefig('LossVal_loss')\n",
    "\n",
    "# plot the accuracy\n",
    "plt.plot(r.history['accuracy'], label='train acc')\n",
    "plt.plot(r.history['val_accuracy'], label='val acc')\n",
    "plt.legend()\n",
    "plt.show()\n",
    "plt.savefig('AccVal_acc')"
   ]
  },
  {
   "cell_type": "code",
   "execution_count": 28,
   "metadata": {
    "id": "3YtlnMBFuiNc"
   },
   "outputs": [],
   "source": [
    "y_pred = model.predict(test_set)"
   ]
  },
  {
   "cell_type": "code",
   "execution_count": 29,
   "metadata": {
    "colab": {
     "base_uri": "https://localhost:8080/"
    },
    "id": "WsQlv7XcumY8",
    "outputId": "661402bc-88c5-421f-8924-9e8addb6df34"
   },
   "outputs": [
    {
     "data": {
      "text/plain": [
       "array([[1.00000000e+00, 1.63523655e-29],\n",
       "       [7.92613346e-03, 9.92073894e-01],\n",
       "       [5.90937724e-03, 9.94090617e-01],\n",
       "       [1.00000000e+00, 6.63751110e-10],\n",
       "       [9.99999881e-01, 1.12798404e-07],\n",
       "       [9.54931915e-01, 4.50681113e-02],\n",
       "       [8.56672823e-01, 1.43327147e-01],\n",
       "       [1.59465402e-01, 8.40534568e-01],\n",
       "       [7.04577053e-03, 9.92954195e-01],\n",
       "       [9.99998450e-01, 1.51403583e-06],\n",
       "       [1.00000000e+00, 7.43287134e-16],\n",
       "       [9.98048782e-01, 1.95118238e-03],\n",
       "       [1.00000000e+00, 5.60833983e-11],\n",
       "       [9.99998689e-01, 1.32633386e-06],\n",
       "       [1.00000000e+00, 5.90321569e-08],\n",
       "       [9.82127905e-01, 1.78720504e-02],\n",
       "       [1.00000000e+00, 1.46639068e-09],\n",
       "       [1.00000000e+00, 1.42017176e-09],\n",
       "       [9.99989748e-01, 1.03059938e-05],\n",
       "       [9.99993205e-01, 6.76729451e-06],\n",
       "       [2.93180835e-03, 9.97068226e-01],\n",
       "       [9.99999881e-01, 1.09308566e-07],\n",
       "       [7.59059250e-01, 2.40940765e-01],\n",
       "       [1.00000000e+00, 4.09345782e-14],\n",
       "       [1.00000000e+00, 4.14020604e-08],\n",
       "       [6.22057414e-04, 9.99377966e-01],\n",
       "       [9.80251372e-01, 1.97485816e-02],\n",
       "       [7.59599566e-01, 2.40400448e-01],\n",
       "       [4.35733616e-01, 5.64266384e-01],\n",
       "       [8.11592579e-01, 1.88407451e-01],\n",
       "       [9.99998689e-01, 1.34929837e-06],\n",
       "       [1.00000000e+00, 3.94423105e-10],\n",
       "       [9.56838299e-03, 9.90431607e-01],\n",
       "       [1.04408143e-02, 9.89559174e-01],\n",
       "       [2.57809889e-02, 9.74218965e-01],\n",
       "       [1.00000000e+00, 1.16761076e-17],\n",
       "       [5.89747331e-04, 9.99410272e-01],\n",
       "       [1.00000000e+00, 5.37407881e-30],\n",
       "       [9.42850893e-04, 9.99057114e-01],\n",
       "       [1.00000000e+00, 1.47495243e-12],\n",
       "       [7.92369526e-03, 9.92076278e-01],\n",
       "       [1.00000000e+00, 1.71616472e-16],\n",
       "       [1.00000000e+00, 1.82304020e-23],\n",
       "       [2.25644163e-03, 9.97743607e-01],\n",
       "       [1.00000000e+00, 1.51063641e-11],\n",
       "       [9.99999523e-01, 4.29320238e-07],\n",
       "       [9.06627774e-01, 9.33722705e-02],\n",
       "       [1.00000000e+00, 1.04086041e-28],\n",
       "       [9.99993801e-01, 6.16681655e-06],\n",
       "       [1.00000000e+00, 2.13692655e-08],\n",
       "       [2.44629919e-04, 9.99755323e-01],\n",
       "       [9.99999642e-01, 3.78154056e-07],\n",
       "       [1.00000000e+00, 1.49273725e-12],\n",
       "       [1.00000000e+00, 1.42815793e-09],\n",
       "       [6.51657581e-03, 9.93483365e-01],\n",
       "       [1.00000000e+00, 3.05172489e-12],\n",
       "       [9.99999881e-01, 1.24233125e-07],\n",
       "       [2.19079782e-03, 9.97809231e-01],\n",
       "       [1.00000000e+00, 2.56015886e-11],\n",
       "       [1.00000000e+00, 7.33037364e-09],\n",
       "       [6.80480804e-03, 9.93195176e-01],\n",
       "       [2.78439443e-03, 9.97215629e-01],\n",
       "       [1.57404505e-02, 9.84259546e-01],\n",
       "       [1.00000000e+00, 4.87072214e-08],\n",
       "       [1.00000000e+00, 1.18508770e-19],\n",
       "       [3.73352170e-01, 6.26647770e-01],\n",
       "       [1.00000000e+00, 1.55269044e-11],\n",
       "       [9.99999642e-01, 3.71498260e-07],\n",
       "       [2.22287280e-03, 9.97777164e-01],\n",
       "       [6.71171676e-03, 9.93288338e-01],\n",
       "       [9.99998093e-01, 1.89328262e-06],\n",
       "       [9.99999881e-01, 8.87537581e-08],\n",
       "       [8.09397176e-03, 9.91906047e-01],\n",
       "       [5.27091557e-03, 9.94729102e-01],\n",
       "       [7.61125586e-04, 9.99238849e-01],\n",
       "       [6.58858001e-01, 3.41141969e-01],\n",
       "       [3.43818055e-03, 9.96561825e-01],\n",
       "       [1.97010580e-03, 9.98029888e-01],\n",
       "       [3.51879233e-03, 9.96481180e-01],\n",
       "       [1.00000000e+00, 2.62333778e-14],\n",
       "       [1.00000000e+00, 2.21199021e-21],\n",
       "       [5.25278077e-02, 9.47472215e-01],\n",
       "       [1.00000000e+00, 7.13836545e-09],\n",
       "       [1.25266528e-02, 9.87473369e-01],\n",
       "       [1.00000000e+00, 3.43552769e-12],\n",
       "       [1.13118244e-02, 9.88688171e-01],\n",
       "       [9.75603998e-01, 2.43960656e-02],\n",
       "       [9.99995589e-01, 4.45074193e-06],\n",
       "       [8.16495274e-04, 9.99183476e-01],\n",
       "       [5.26733603e-03, 9.94732618e-01],\n",
       "       [5.65221161e-03, 9.94347751e-01],\n",
       "       [1.00000000e+00, 9.05716406e-15],\n",
       "       [7.66083077e-02, 9.23391700e-01],\n",
       "       [4.68393369e-03, 9.95316029e-01],\n",
       "       [5.33312038e-02, 9.46668744e-01],\n",
       "       [4.54394221e-02, 9.54560637e-01],\n",
       "       [8.40925029e-04, 9.99159098e-01],\n",
       "       [3.23399864e-02, 9.67660010e-01],\n",
       "       [4.92619816e-04, 9.99507427e-01],\n",
       "       [9.05013382e-01, 9.49865878e-02],\n",
       "       [9.98691499e-01, 1.30853476e-03],\n",
       "       [9.99988794e-01, 1.11987383e-05],\n",
       "       [1.00000000e+00, 4.69281076e-08],\n",
       "       [9.99842405e-01, 1.57552800e-04],\n",
       "       [1.60645489e-02, 9.83935475e-01],\n",
       "       [9.99999881e-01, 7.98927431e-08],\n",
       "       [1.00000000e+00, 3.02960646e-15],\n",
       "       [9.99998808e-01, 1.24077712e-06],\n",
       "       [9.99938965e-01, 6.10256066e-05],\n",
       "       [9.99999642e-01, 4.00143819e-07],\n",
       "       [2.43051887e-01, 7.56948113e-01],\n",
       "       [9.99999642e-01, 3.57207796e-07],\n",
       "       [5.90240836e-01, 4.09759104e-01],\n",
       "       [7.49076717e-03, 9.92509246e-01],\n",
       "       [1.08691223e-01, 8.91308784e-01],\n",
       "       [7.19848275e-01, 2.80151725e-01],\n",
       "       [9.99990225e-01, 9.82209167e-06],\n",
       "       [7.32837105e-03, 9.92671609e-01],\n",
       "       [9.95393515e-01, 4.60653845e-03],\n",
       "       [9.99997020e-01, 2.94147026e-06],\n",
       "       [1.00000000e+00, 5.40086757e-34],\n",
       "       [9.99999762e-01, 1.88636051e-07],\n",
       "       [9.99999762e-01, 1.89618319e-07],\n",
       "       [1.00000000e+00, 8.52390695e-13],\n",
       "       [9.99997497e-01, 2.49339905e-06],\n",
       "       [9.99999642e-01, 3.46438298e-07],\n",
       "       [3.97728533e-02, 9.60227191e-01],\n",
       "       [1.00000000e+00, 2.24942898e-23],\n",
       "       [1.00000000e+00, 2.22572395e-13],\n",
       "       [1.04717277e-02, 9.89528239e-01],\n",
       "       [9.96441424e-01, 3.55855888e-03],\n",
       "       [1.00000000e+00, 2.54763410e-08],\n",
       "       [1.00000000e+00, 4.61009968e-08],\n",
       "       [9.99994397e-01, 5.62715968e-06]], dtype=float32)"
      ]
     },
     "execution_count": 29,
     "metadata": {
      "tags": []
     },
     "output_type": "execute_result"
    }
   ],
   "source": [
    "y_pred"
   ]
  },
  {
   "cell_type": "code",
   "execution_count": 30,
   "metadata": {
    "id": "oXTVGo-ouoYh"
   },
   "outputs": [],
   "source": [
    "#from ypred which ever high value is there we will get index of that\n",
    "import numpy as np\n",
    "y_pred = np.argmax(y_pred, axis=1)"
   ]
  },
  {
   "cell_type": "code",
   "execution_count": 31,
   "metadata": {
    "colab": {
     "base_uri": "https://localhost:8080/"
    },
    "id": "Ssemg1hmvEZY",
    "outputId": "60facb38-65dc-41d9-ee8b-bad69bed169c"
   },
   "outputs": [
    {
     "data": {
      "text/plain": [
       "array([0, 1, 1, 0, 0, 0, 0, 1, 1, 0, 0, 0, 0, 0, 0, 0, 0, 0, 0, 0, 1, 0,\n",
       "       0, 0, 0, 1, 0, 0, 1, 0, 0, 0, 1, 1, 1, 0, 1, 0, 1, 0, 1, 0, 0, 1,\n",
       "       0, 0, 0, 0, 0, 0, 1, 0, 0, 0, 1, 0, 0, 1, 0, 0, 1, 1, 1, 0, 0, 1,\n",
       "       0, 0, 1, 1, 0, 0, 1, 1, 1, 0, 1, 1, 1, 0, 0, 1, 0, 1, 0, 1, 0, 0,\n",
       "       1, 1, 1, 0, 1, 1, 1, 1, 1, 1, 1, 0, 0, 0, 0, 0, 1, 0, 0, 0, 0, 0,\n",
       "       1, 0, 0, 1, 1, 0, 0, 1, 0, 0, 0, 0, 0, 0, 0, 0, 1, 0, 0, 1, 0, 0,\n",
       "       0, 0])"
      ]
     },
     "execution_count": 31,
     "metadata": {
      "tags": []
     },
     "output_type": "execute_result"
    }
   ],
   "source": [
    "y_pred"
   ]
  },
  {
   "cell_type": "code",
   "execution_count": 32,
   "metadata": {
    "id": "fbZsdemSvFww"
   },
   "outputs": [],
   "source": [
    "from tensorflow.keras.models import load_model\n",
    "from tensorflow.keras.preprocessing import image"
   ]
  },
  {
   "cell_type": "code",
   "execution_count": 55,
   "metadata": {
    "id": "-XJmfunswlGd"
   },
   "outputs": [],
   "source": [
    "img=image.load_img('/content/drive/MyDrive/Colab Notebooks/Train/Parasite/C133P94ThinF_IMG_20151004_155721_cell_111.png',target_size=(224,224))"
   ]
  },
  {
   "cell_type": "code",
   "execution_count": 56,
   "metadata": {
    "colab": {
     "base_uri": "https://localhost:8080/"
    },
    "id": "8lU5OOdIwxCi",
    "outputId": "fe0978ad-3962-4d34-81ab-d412d4415811"
   },
   "outputs": [
    {
     "data": {
      "text/plain": [
       "array([[[0., 0., 0.],\n",
       "        [0., 0., 0.],\n",
       "        [0., 0., 0.],\n",
       "        ...,\n",
       "        [0., 0., 0.],\n",
       "        [0., 0., 0.],\n",
       "        [0., 0., 0.]],\n",
       "\n",
       "       [[0., 0., 0.],\n",
       "        [0., 0., 0.],\n",
       "        [0., 0., 0.],\n",
       "        ...,\n",
       "        [0., 0., 0.],\n",
       "        [0., 0., 0.],\n",
       "        [0., 0., 0.]],\n",
       "\n",
       "       [[0., 0., 0.],\n",
       "        [0., 0., 0.],\n",
       "        [0., 0., 0.],\n",
       "        ...,\n",
       "        [0., 0., 0.],\n",
       "        [0., 0., 0.],\n",
       "        [0., 0., 0.]],\n",
       "\n",
       "       ...,\n",
       "\n",
       "       [[0., 0., 0.],\n",
       "        [0., 0., 0.],\n",
       "        [0., 0., 0.],\n",
       "        ...,\n",
       "        [0., 0., 0.],\n",
       "        [0., 0., 0.],\n",
       "        [0., 0., 0.]],\n",
       "\n",
       "       [[0., 0., 0.],\n",
       "        [0., 0., 0.],\n",
       "        [0., 0., 0.],\n",
       "        ...,\n",
       "        [0., 0., 0.],\n",
       "        [0., 0., 0.],\n",
       "        [0., 0., 0.]],\n",
       "\n",
       "       [[0., 0., 0.],\n",
       "        [0., 0., 0.],\n",
       "        [0., 0., 0.],\n",
       "        ...,\n",
       "        [0., 0., 0.],\n",
       "        [0., 0., 0.],\n",
       "        [0., 0., 0.]]], dtype=float32)"
      ]
     },
     "execution_count": 56,
     "metadata": {
      "tags": []
     },
     "output_type": "execute_result"
    },
    {
     "data": {
      "text/plain": [
       "array([[[0., 0., 0.],\n",
       "        [0., 0., 0.],\n",
       "        [0., 0., 0.],\n",
       "        ...,\n",
       "        [0., 0., 0.],\n",
       "        [0., 0., 0.],\n",
       "        [0., 0., 0.]],\n",
       "\n",
       "       [[0., 0., 0.],\n",
       "        [0., 0., 0.],\n",
       "        [0., 0., 0.],\n",
       "        ...,\n",
       "        [0., 0., 0.],\n",
       "        [0., 0., 0.],\n",
       "        [0., 0., 0.]],\n",
       "\n",
       "       [[0., 0., 0.],\n",
       "        [0., 0., 0.],\n",
       "        [0., 0., 0.],\n",
       "        ...,\n",
       "        [0., 0., 0.],\n",
       "        [0., 0., 0.],\n",
       "        [0., 0., 0.]],\n",
       "\n",
       "       ...,\n",
       "\n",
       "       [[0., 0., 0.],\n",
       "        [0., 0., 0.],\n",
       "        [0., 0., 0.],\n",
       "        ...,\n",
       "        [0., 0., 0.],\n",
       "        [0., 0., 0.],\n",
       "        [0., 0., 0.]],\n",
       "\n",
       "       [[0., 0., 0.],\n",
       "        [0., 0., 0.],\n",
       "        [0., 0., 0.],\n",
       "        ...,\n",
       "        [0., 0., 0.],\n",
       "        [0., 0., 0.],\n",
       "        [0., 0., 0.]],\n",
       "\n",
       "       [[0., 0., 0.],\n",
       "        [0., 0., 0.],\n",
       "        [0., 0., 0.],\n",
       "        ...,\n",
       "        [0., 0., 0.],\n",
       "        [0., 0., 0.],\n",
       "        [0., 0., 0.]]], dtype=float32)"
      ]
     },
     "execution_count": 60,
     "metadata": {
      "tags": []
     },
     "output_type": "execute_result"
    }
   ],
   "source": [
    "x=image.img_to_array(img)\n",
    "x"
   ]
  },
  {
   "cell_type": "code",
   "execution_count": 57,
   "metadata": {
    "colab": {
     "base_uri": "https://localhost:8080/"
    },
    "id": "6KutOfOqwzHC",
    "outputId": "5afc192b-6358-469f-abbb-695402e53cb5"
   },
   "outputs": [
    {
     "data": {
      "text/plain": [
       "(224, 224, 3)"
      ]
     },
     "execution_count": 57,
     "metadata": {
      "tags": []
     },
     "output_type": "execute_result"
    },
    {
     "data": {
      "text/plain": [
       "(224, 224, 3)"
      ]
     },
     "execution_count": 61,
     "metadata": {
      "tags": []
     },
     "output_type": "execute_result"
    }
   ],
   "source": [
    "x.shape"
   ]
  },
  {
   "cell_type": "code",
   "execution_count": 58,
   "metadata": {
    "id": "wpcawNAfw2HT"
   },
   "outputs": [],
   "source": [
    "# to resacle it\n",
    "x=x/255"
   ]
  },
  {
   "cell_type": "code",
   "execution_count": 63,
   "metadata": {
    "colab": {
     "base_uri": "https://localhost:8080/"
    },
    "id": "pKEr2DsQw4VZ",
    "outputId": "9ac12f34-dd4e-4485-f958-3b7d5af15aeb"
   },
   "outputs": [
    {
     "data": {
      "text/plain": [
       "array([[[0., 0., 0.],\n",
       "        [0., 0., 0.],\n",
       "        [0., 0., 0.],\n",
       "        ...,\n",
       "        [0., 0., 0.],\n",
       "        [0., 0., 0.],\n",
       "        [0., 0., 0.]],\n",
       "\n",
       "       [[0., 0., 0.],\n",
       "        [0., 0., 0.],\n",
       "        [0., 0., 0.],\n",
       "        ...,\n",
       "        [0., 0., 0.],\n",
       "        [0., 0., 0.],\n",
       "        [0., 0., 0.]],\n",
       "\n",
       "       [[0., 0., 0.],\n",
       "        [0., 0., 0.],\n",
       "        [0., 0., 0.],\n",
       "        ...,\n",
       "        [0., 0., 0.],\n",
       "        [0., 0., 0.],\n",
       "        [0., 0., 0.]],\n",
       "\n",
       "       ...,\n",
       "\n",
       "       [[0., 0., 0.],\n",
       "        [0., 0., 0.],\n",
       "        [0., 0., 0.],\n",
       "        ...,\n",
       "        [0., 0., 0.],\n",
       "        [0., 0., 0.],\n",
       "        [0., 0., 0.]],\n",
       "\n",
       "       [[0., 0., 0.],\n",
       "        [0., 0., 0.],\n",
       "        [0., 0., 0.],\n",
       "        ...,\n",
       "        [0., 0., 0.],\n",
       "        [0., 0., 0.],\n",
       "        [0., 0., 0.]],\n",
       "\n",
       "       [[0., 0., 0.],\n",
       "        [0., 0., 0.],\n",
       "        [0., 0., 0.],\n",
       "        ...,\n",
       "        [0., 0., 0.],\n",
       "        [0., 0., 0.],\n",
       "        [0., 0., 0.]]], dtype=float32)"
      ]
     },
     "execution_count": 63,
     "metadata": {
      "tags": []
     },
     "output_type": "execute_result"
    }
   ],
   "source": [
    "x"
   ]
  },
  {
   "cell_type": "code",
   "execution_count": 64,
   "metadata": {
    "colab": {
     "base_uri": "https://localhost:8080/"
    },
    "id": "ZV5-GpzYw7Uc",
    "outputId": "83108416-da8a-480f-f0b4-787caa3240d4"
   },
   "outputs": [
    {
     "data": {
      "text/plain": [
       "(1, 224, 224, 3)"
      ]
     },
     "execution_count": 64,
     "metadata": {
      "tags": []
     },
     "output_type": "execute_result"
    }
   ],
   "source": [
    "x=np.expand_dims(x,axis=0)\n",
    "img_data=preprocess_input(x)\n",
    "img_data.shape"
   ]
  },
  {
   "cell_type": "code",
   "execution_count": 65,
   "metadata": {
    "colab": {
     "base_uri": "https://localhost:8080/"
    },
    "id": "omJH5RWcxRlo",
    "outputId": "a474fc29-eb77-4bff-8198-6385bda22b9c"
   },
   "outputs": [
    {
     "data": {
      "text/plain": [
       "array([[1., 0.]], dtype=float32)"
      ]
     },
     "execution_count": 65,
     "metadata": {
      "tags": []
     },
     "output_type": "execute_result"
    }
   ],
   "source": [
    "model.predict(img_data)"
   ]
  },
  {
   "cell_type": "code",
   "execution_count": 66,
   "metadata": {
    "id": "2e-3HI2MxT1b"
   },
   "outputs": [],
   "source": [
    "a=np.argmax(model.predict(img_data), axis=1)"
   ]
  },
  {
   "cell_type": "code",
   "execution_count": 67,
   "metadata": {
    "colab": {
     "base_uri": "https://localhost:8080/"
    },
    "id": "wjIP9dVQxW6f",
    "outputId": "7babcf0f-c07a-4aef-da84-5deaac959bb1"
   },
   "outputs": [
    {
     "data": {
      "text/plain": [
       "array([0])"
      ]
     },
     "execution_count": 67,
     "metadata": {
      "tags": []
     },
     "output_type": "execute_result"
    }
   ],
   "source": [
    "a"
   ]
  },
  {
   "cell_type": "code",
   "execution_count": 54,
   "metadata": {
    "colab": {
     "base_uri": "https://localhost:8080/"
    },
    "id": "ZZS-GjJrxX16",
    "outputId": "3b5a5618-a94b-4638-8293-3a3165283934"
   },
   "outputs": [
    {
     "name": "stdout",
     "output_type": "stream",
     "text": [
      "Infected\n"
     ]
    }
   ],
   "source": [
    "if(a==1):\n",
    "    print(\"Uninfected\")\n",
    "else:\n",
    "    print(\"Infected\")"
   ]
  },
  {
   "cell_type": "code",
   "execution_count": null,
   "metadata": {
    "id": "ZOYmKzxgxbDw"
   },
   "outputs": [],
   "source": []
  }
 ],
 "metadata": {
  "accelerator": "GPU",
  "colab": {
   "name": "Untitled4.ipynb",
   "provenance": []
  },
  "kernelspec": {
   "display_name": "Python 3",
   "language": "python",
   "name": "python3"
  },
  "language_info": {
   "codemirror_mode": {
    "name": "ipython",
    "version": 3
   },
   "file_extension": ".py",
   "mimetype": "text/x-python",
   "name": "python",
   "nbconvert_exporter": "python",
   "pygments_lexer": "ipython3",
   "version": "3.7.4"
  }
 },
 "nbformat": 4,
 "nbformat_minor": 1
}
